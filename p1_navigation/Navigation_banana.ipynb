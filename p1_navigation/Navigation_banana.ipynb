{
 "cells": [
  {
   "cell_type": "markdown",
   "metadata": {},
   "source": [
    "# Navigation\n",
    "\n",
    "---\n",
    "\n",
    "### 1. Start the Environment\n",
    "\n",
    "We will start the environment!  **_Before running the code cell below_**, change the `file_name` parameter to match the location of the Unity environment that you downloaded.\n",
    "\n",
    "- **Mac**: `\"path/to/Banana.app\"`\n",
    "- **Windows** (x86): `\"path/to/Banana_Windows_x86/Banana.exe\"`\n",
    "- **Windows** (x86_64): `\"path/to/Banana_Windows_x86_64/Banana.exe\"`\n",
    "- **Linux** (x86): `\"path/to/Banana_Linux/Banana.x86\"`\n",
    "- **Linux** (x86_64): `\"path/to/Banana_Linux/Banana.x86_64\"`\n",
    "- **Linux** (x86, headless): `\"path/to/Banana_Linux_NoVis/Banana.x86\"`\n",
    "- **Linux** (x86_64, headless): `\"path/to/Banana_Linux_NoVis/Banana.x86_64\"`\n",
    "\n",
    "For instance, if you are using a Mac, then you downloaded `Banana.app`.  If this file is in the same folder as the notebook, then the line below should appear as follows:\n",
    "```\n",
    "env = UnityEnvironment(file_name=\"Banana.app\")\n",
    "```"
   ]
  },
  {
   "cell_type": "code",
   "execution_count": 4,
   "metadata": {},
   "outputs": [
    {
     "name": "stderr",
     "output_type": "stream",
     "text": [
      "INFO:unityagents:\n",
      "'Academy' started successfully!\n",
      "Unity Academy name: Academy\n",
      "        Number of Brains: 1\n",
      "        Number of External Brains : 1\n",
      "        Lesson number : 0\n",
      "        Reset Parameters :\n",
      "\t\t\n",
      "Unity brain name: BananaBrain\n",
      "        Number of Visual Observations (per agent): 0\n",
      "        Vector Observation space type: continuous\n",
      "        Vector Observation space size (per agent): 37\n",
      "        Number of stacked Vector Observation: 1\n",
      "        Vector Action space type: discrete\n",
      "        Vector Action space size (per agent): 4\n",
      "        Vector Action descriptions: , , , \n"
     ]
    }
   ],
   "source": [
    "from unityagents import UnityEnvironment\n",
    "import numpy as np\n",
    "from collections import deque\n",
    "import matplotlib.pyplot as plt\n",
    "%matplotlib inline\n",
    "\n",
    "# please do not modify the line below\n",
    "env = UnityEnvironment(file_name=\"Banana_Windows_x86_64/Banana.exe\")\n"
   ]
  },
  {
   "cell_type": "markdown",
   "metadata": {},
   "source": [
    "Environments contain **_brains_** which are responsible for deciding the actions of their associated agents. Here we check for the first brain available, and set it as the default brain we will be controlling from Python."
   ]
  },
  {
   "cell_type": "code",
   "execution_count": 5,
   "metadata": {},
   "outputs": [
    {
     "name": "stdout",
     "output_type": "stream",
     "text": [
      "BananaBrain\n"
     ]
    }
   ],
   "source": [
    "# get the default brain\n",
    "brain_name = env.brain_names[0]\n",
    "brain = env.brains[brain_name]\n",
    "print(brain_name)"
   ]
  },
  {
   "cell_type": "markdown",
   "metadata": {},
   "source": [
    "### 2. Examine the State and Action Spaces\n",
    "\n",
    "Run the code cell below to print some information about the environment."
   ]
  },
  {
   "cell_type": "code",
   "execution_count": 6,
   "metadata": {},
   "outputs": [
    {
     "name": "stdout",
     "output_type": "stream",
     "text": [
      "Number of agents: 1\n",
      "Number of actions: 4\n",
      "States look like: [1.         0.         0.         0.         0.84408134 0.\n",
      " 0.         1.         0.         0.0748472  0.         1.\n",
      " 0.         0.         0.25755    1.         0.         0.\n",
      " 0.         0.74177343 0.         1.         0.         0.\n",
      " 0.25854847 0.         0.         1.         0.         0.09355672\n",
      " 0.         1.         0.         0.         0.31969345 0.\n",
      " 0.        ]\n",
      "States have length: 37\n"
     ]
    }
   ],
   "source": [
    "# reset the environment\n",
    "env_info = env.reset(train_mode=True)[brain_name]\n",
    "\n",
    "# number of agents in the environment\n",
    "print('Number of agents:', len(env_info.agents))\n",
    "\n",
    "# number of actions\n",
    "action_size = brain.vector_action_space_size\n",
    "print('Number of actions:', action_size)\n",
    "\n",
    "# examine the state space \n",
    "state = env_info.vector_observations[0]\n",
    "print('States look like:', state)\n",
    "state_size = len(state)\n",
    "print('States have length:', state_size)"
   ]
  },
  {
   "cell_type": "markdown",
   "metadata": {},
   "source": [
    "### 3. Take Random Actions in the Environment\n",
    "\n",
    "In the next code cell, you will see how to use the Python API to control the agent and receive feedback from the environment.\n",
    "\n",
    "Note that you should set `train_mode=True` to restart the environment."
   ]
  },
  {
   "cell_type": "code",
   "execution_count": 7,
   "metadata": {},
   "outputs": [
    {
     "name": "stdout",
     "output_type": "stream",
     "text": [
      "Score: 0.0\n"
     ]
    }
   ],
   "source": [
    "env_info = env.reset(train_mode=True)[brain_name] # reset the environment\n",
    "state = env_info.vector_observations[0]            # get the current state\n",
    "score = 0                                          # initialize the score\n",
    "while True:\n",
    "    action = np.random.randint(action_size)        # select an action\n",
    "    env_info = env.step(action)[brain_name]        # send the action to the environment\n",
    "    next_state = env_info.vector_observations[0]   # get the next state\n",
    "    reward = env_info.rewards[0]                   # get the reward\n",
    "    done = env_info.local_done[0]                  # see if episode has finished\n",
    "    score += reward                                # update the score\n",
    "    state = next_state                             # roll over the state to next time step\n",
    "    if done:                                       # exit loop if episode finished\n",
    "        break\n",
    "    \n",
    "print(\"Score: {}\".format(score))"
   ]
  },
  {
   "cell_type": "markdown",
   "metadata": {},
   "source": [
    "### 4. Model Training\n",
    "\n",
    "Let's train the agent to solve the environment!  A few **important notes**:\n",
    "- When training the environment, set `train_mode=True`, so that the line for resetting the environment looks like the following:\n",
    "```python\n",
    "env_info = env.reset(train_mode=True)[brain_name]\n",
    "```\n",
    "- The following training cells import `AgentPriority` class, which implements priority Double DQN, from `dqn_priority_agent` module located in the same directory as this notebook.\n",
    "- After training the agent, by setting `train_mode=False`, you can watch the agent with the trained model (see Section 5). "
   ]
  },
  {
   "cell_type": "markdown",
   "metadata": {},
   "source": [
    "First, let's set some hyperparameters.  By changing those settings, you can do a parameter search."
   ]
  },
  {
   "cell_type": "code",
   "execution_count": 6,
   "metadata": {},
   "outputs": [],
   "source": [
    "HIDDEN_LAYERS = [64, 32, 16, 8]\n",
    "LR = 2.5e-4\n",
    "N_EPISODES = 3000\n",
    "EPS_START = 1.0\n",
    "MIN_EPS = 0.0001\n",
    "EPS_DECAY = 0.9\n",
    "MIN_SAVE_SCORE = 16.0  # minimum average score to save the model"
   ]
  },
  {
   "cell_type": "markdown",
   "metadata": {},
   "source": [
    "Then import the agant."
   ]
  },
  {
   "cell_type": "code",
   "execution_count": 7,
   "metadata": {},
   "outputs": [],
   "source": [
    "from dqn_priority_agent import AgentPriority\n",
    "\n",
    "priority_agent = AgentPriority(state_size=state_size,\n",
    "                               action_size=action_size,\n",
    "                               seed=0,\n",
    "                               hidden_layers=HIDDEN_LAYERS,\n",
    "                               lr=LR,\n",
    "                               alpha=0.5,\n",
    "                               beta=0.4)"
   ]
  },
  {
   "cell_type": "markdown",
   "metadata": {},
   "source": [
    "The next cell is the main script to train the agent."
   ]
  },
  {
   "cell_type": "code",
   "execution_count": 8,
   "metadata": {},
   "outputs": [],
   "source": [
    "def dqn(agent, n_episodes=1000, eps_start=1.0, min_eps=0.01, eps_decay=0.99):\n",
    "    print(\"Agent: {}\".format(type(agent).__name__))\n",
    "    print(\"hidden_layers {}, lr {}\".format(HIDDEN_LAYERS, LR))\n",
    "    print(\"n_eposode {}, eps_start {}, min_eps {}, eps_decay {}, gamma {}\".format(n_episodes,\n",
    "                                                                                  eps_start,\n",
    "                                                                                  min_eps,\n",
    "                                                                                  eps_decay,\n",
    "                                                                                  agent.get_gamma()))\n",
    "    scores = []                        # list containing scores from each episode\n",
    "    scores_window = deque(maxlen=100)  # last 100 scores\n",
    "    ave_scores = []\n",
    "    eps = eps_start\n",
    "    \n",
    "    max_ave_score = MIN_SAVE_SCORE\n",
    "    lr = LR\n",
    "    \n",
    "    for i_episode in range(1, n_episodes+1):\n",
    "        env_info = env.reset(train_mode=True)[brain_name]  # reset the environment\n",
    "        state = env_info.vector_observations[0]            # get the current state\n",
    "        score = 0                                          # initialize the score\n",
    "        \n",
    "        # If priority sampling agent is in use, once episode reaches 2000,\n",
    "        # change the agent to the uniform sampling\n",
    "        if type(agent).__name__ == \"AgentPriority\" and i_episode % 2000 == 0:\n",
    "            agent.set_uniform_sampling()\n",
    "            \n",
    "        # every 1000 episode, reduce lr by half\n",
    "        if i_episode % 1000 == 0:\n",
    "            lr /= 2\n",
    "            agent.set_lr(lr)\n",
    "            print(\"\\rLR updated {}\".format(lr))\n",
    "        \n",
    "        while True:\n",
    "            action = agent.act(state, eps)                 # get action from agent\n",
    "            env_info = env.step(action)[brain_name]        # send the action to the environment\n",
    "            next_state = env_info.vector_observations[0]   # get the next state\n",
    "            reward = env_info.rewards[0]                   # get the reward\n",
    "            done = env_info.local_done[0]                  # see if episode has finished\n",
    "            \n",
    "            agent.step(state, action, reward, next_state, done)\n",
    "            \n",
    "            state = next_state\n",
    "            score += reward\n",
    "            if done:\n",
    "                break\n",
    "        \n",
    "        eps = max(min_eps, eps_decay*eps) # decrease epsilon\n",
    "        scores.append(score)\n",
    "        scores_window.append(score)\n",
    "        \n",
    "        mean_ave_score = np.mean(scores_window)\n",
    "        ave_scores.append(mean_ave_score)\n",
    "        \n",
    "        print('\\rEpisode {}\\tAverage Score: {:.2f}'.format(i_episode, mean_ave_score), end=\"\")\n",
    "        if mean_ave_score > max_ave_score:\n",
    "            agent.save_model()\n",
    "            max_ave_score = mean_ave_score\n",
    "            \n",
    "        if i_episode % 100 == 0:\n",
    "            print('\\rEpisode {}\\tAverage Score: {:.2f}'.format(i_episode, mean_ave_score))\n",
    "\n",
    "    return scores, ave_scores, max_ave_score\n"
   ]
  },
  {
   "cell_type": "markdown",
   "metadata": {},
   "source": [
    "Train the agent and plot the result.  \n",
    "\n",
    "**Note:** If you just want to see how the already trained model stored in `priority_ddqn_model.pth` works, skip the next cell and go to the next section."
   ]
  },
  {
   "cell_type": "code",
   "execution_count": 9,
   "metadata": {},
   "outputs": [
    {
     "name": "stdout",
     "output_type": "stream",
     "text": [
      "Agent: AgentPriority\n",
      "hidden_layers [64, 32, 16, 8], lr 0.00025\n",
      "n_eposode 3000, eps_start 1.0, min_eps 0.0001, eps_decay 0.9, gamma 0.99\n",
      "Episode 100\tAverage Score: 6.29\n",
      "Episode 200\tAverage Score: 8.11\n",
      "Episode 300\tAverage Score: 12.10\n",
      "Episode 400\tAverage Score: 12.44\n",
      "Episode 500\tAverage Score: 14.70\n",
      "Episode 600\tAverage Score: 14.12\n",
      "Episode 700\tAverage Score: 15.88\n",
      "Episode 800\tAverage Score: 14.76\n",
      "Episode 900\tAverage Score: 15.36\n",
      "LR updated 0.000125 Score: 15.28\n",
      "Episode 1000\tAverage Score: 15.24\n",
      "Episode 1100\tAverage Score: 14.69\n",
      "Episode 1200\tAverage Score: 15.83\n",
      "Episode 1300\tAverage Score: 15.24\n",
      "Episode 1400\tAverage Score: 14.59\n",
      "Episode 1500\tAverage Score: 15.95\n",
      "Episode 1600\tAverage Score: 14.76\n",
      "Episode 1700\tAverage Score: 16.32\n",
      "Episode 1800\tAverage Score: 14.90\n",
      "Episode 1900\tAverage Score: 17.01\n",
      "LR updated 6.25e-05e Score: 15.96\n",
      "Episode 2000\tAverage Score: 15.93\n",
      "Episode 2100\tAverage Score: 15.98\n",
      "Episode 2200\tAverage Score: 16.63\n",
      "Episode 2300\tAverage Score: 15.49\n",
      "Episode 2400\tAverage Score: 16.26\n",
      "Episode 2500\tAverage Score: 15.80\n",
      "Episode 2600\tAverage Score: 16.72\n",
      "Episode 2700\tAverage Score: 16.14\n",
      "Episode 2800\tAverage Score: 16.31\n",
      "Episode 2900\tAverage Score: 16.05\n",
      "LR updated 3.125e-05 Score: 16.32\n",
      "Episode 3000\tAverage Score: 16.41\n",
      "MAX AVE SCORE 17.32\n"
     ]
    },
    {
     "data": {
      "image/png": "[encoded data removed]",
      "text/plain": [
       "<matplotlib.figure.Figure at 0x7fc95b805160>"
      ]
     },
     "metadata": {
      "needs_background": "light"
     },
     "output_type": "display_data"
    }
   ],
   "source": [
    "scores, ave_scores, max_ave_score = dqn(priority_agent, N_EPISODES, EPS_START, MIN_EPS, EPS_DECAY)\n",
    "\n",
    "print(\"MAX AVE SCORE {}\".format(max_ave_score))\n",
    "plt.plot(scores)\n",
    "plt.plot(ave_scores)\n",
    "plt.show()"
   ]
  },
  {
   "cell_type": "markdown",
   "metadata": {},
   "source": [
    "### 5. Let's see how the trained model works\n",
    "The next cell loads the model trained in the previous section and use that to play Banana.  An Unity window will open, and you can see how your agent plays Banana."
   ]
  },
  {
   "cell_type": "code",
   "execution_count": 8,
   "metadata": {},
   "outputs": [
    {
     "name": "stdout",
     "output_type": "stream",
     "text": [
      "20.0, 21.0, 12.0, 18.0, 19.0, 16.0, 20.0, 19.0, 9.0, 17.0, \n",
      "\n",
      "12.0, 13.0, 6.0, 17.0, 19.0, 16.0, 24.0, 20.0, 18.0, 11.0, \n",
      "\n",
      "13.0, 17.0, 13.0, 17.0, 19.0, 18.0, 18.0, 14.0, 19.0, 21.0, \n",
      "\n",
      "21.0, 27.0, 21.0, 24.0, 18.0, 20.0, 18.0, 17.0, 19.0, 19.0, \n",
      "\n",
      "14.0, 19.0, 15.0, 19.0, 12.0, 20.0, 22.0, 17.0, 25.0, 19.0, \n",
      "\n",
      "21.0, 17.0, 20.0, 19.0, 10.0, 15.0, 19.0, 21.0, 16.0, 18.0, \n",
      "\n",
      "13.0, 19.0, 17.0, 24.0, 13.0, 17.0, 26.0, 15.0, 10.0, 22.0, \n",
      "\n",
      "19.0, 19.0, 21.0, 14.0, 22.0, 9.0, 6.0, 19.0, 13.0, 20.0, \n",
      "\n",
      "12.0, 12.0, 13.0, 17.0, 18.0, 15.0, 22.0, 15.0, 17.0, 18.0, \n",
      "\n",
      "17.0, 20.0, 19.0, 11.0, 18.0, 15.0, 15.0, 16.0, 13.0, 15.0, \n",
      "\n",
      "Average score: 17.14\n"
     ]
    }
   ],
   "source": [
    "ave_score = 0.0\n",
    "priority_agent.load_model(\"priority_ddqn_model.pth\")\n",
    "num_plays=100\n",
    "\n",
    "for e in range(num_plays):\n",
    "    env_info = env.reset(train_mode=False)[brain_name] # reset the environment with \n",
    "    state = env_info.vector_observations[0]            # train_mode=False \n",
    "    score = 0                                          \n",
    "\n",
    "    while True:\n",
    "        action = priority_agent.act(state)\n",
    "        env_info = env.step(action)[brain_name]\n",
    "        next_state = env_info.vector_observations[0]\n",
    "        reward = env_info.rewards[0]\n",
    "        done = env_info.local_done[0]\n",
    "        score += reward\n",
    "        state = next_state\n",
    "        if done:\n",
    "            break    \n",
    "    \n",
    "    print(score, end=\", \")\n",
    "    if (e+1) % 10 == 0:\n",
    "        print(\"\\n\")\n",
    "    ave_score += score\n",
    "    \n",
    "print(\"Average score: {}\".format(ave_score/num_plays))"
   ]
  },
  {
   "cell_type": "markdown",
   "metadata": {},
   "source": [
    "### 6. Comparison with Uniform Sampling\n",
    "Out of curiosity, let's see how the agent trained with vanilla DQN works.  For the fair comparison, the hyperparameters have to be same as those used in Section 4.  The vanilla DQN agent is implemented in `dqn_agent` which is located in the same directory as this notebook."
   ]
  },
  {
   "cell_type": "code",
   "execution_count": 9,
   "metadata": {},
   "outputs": [],
   "source": [
    "HIDDEN_LAYERS = [64, 32, 16, 8]\n",
    "LR = 2.5e-4\n",
    "N_EPISODES = 3000\n",
    "EPS_START = 1.0\n",
    "MIN_EPS = 0.0001\n",
    "EPS_DECAY = 0.9\n",
    "MIN_SAVE_SCORE = 16.0"
   ]
  },
  {
   "cell_type": "code",
   "execution_count": 9,
   "metadata": {},
   "outputs": [],
   "source": [
    "from dqn_agent import AgentUniform\n",
    "\n",
    "simple_agent = AgentUniform(state_size=state_size, action_size=action_size, seed=0, hidden_layers=HIDDEN_LAYERS, lr=LR)"
   ]
  },
  {
   "cell_type": "code",
   "execution_count": 10,
   "metadata": {},
   "outputs": [
    {
     "name": "stdout",
     "output_type": "stream",
     "text": [
      "Agent: AgentUniform\n",
      "hidden_layers [64, 32, 16, 8], lr 0.00025\n",
      "n_eposode 3000, eps_start 1.0, min_eps 0.0001, eps_decay 0.9, gamma 0.99\n",
      "Episode 100\tAverage Score: 3.55\n",
      "Episode 200\tAverage Score: 10.94\n",
      "Episode 300\tAverage Score: 13.71\n",
      "Episode 400\tAverage Score: 14.71\n",
      "Episode 500\tAverage Score: 15.45\n",
      "Episode 600\tAverage Score: 15.90\n",
      "Episode 700\tAverage Score: 15.55\n",
      "Episode 800\tAverage Score: 17.23\n",
      "Episode 900\tAverage Score: 16.16\n",
      "LR updated 0.000125 Score: 16.62\n",
      "Episode 1000\tAverage Score: 16.63\n",
      "Episode 1100\tAverage Score: 16.05\n",
      "Episode 1200\tAverage Score: 16.13\n",
      "Episode 1300\tAverage Score: 16.99\n",
      "Episode 1400\tAverage Score: 16.17\n",
      "Episode 1500\tAverage Score: 15.58\n",
      "Episode 1600\tAverage Score: 16.63\n",
      "Episode 1700\tAverage Score: 16.41\n",
      "Episode 1800\tAverage Score: 15.39\n",
      "Episode 1900\tAverage Score: 15.66\n",
      "LR updated 6.25e-05e Score: 16.21\n",
      "Episode 2000\tAverage Score: 16.09\n",
      "Episode 2100\tAverage Score: 16.15\n",
      "Episode 2200\tAverage Score: 16.39\n",
      "Episode 2300\tAverage Score: 15.47\n",
      "Episode 2400\tAverage Score: 15.23\n",
      "Episode 2500\tAverage Score: 15.91\n",
      "Episode 2600\tAverage Score: 15.73\n",
      "Episode 2700\tAverage Score: 14.87\n",
      "Episode 2800\tAverage Score: 15.36\n",
      "Episode 2900\tAverage Score: 16.06\n",
      "LR updated 3.125e-05 Score: 16.58\n",
      "Episode 3000\tAverage Score: 16.54\n"
     ]
    },
    {
     "data": {
      "image/png": "[encoded data removed]",
      "text/plain": [
       "<matplotlib.figure.Figure at 0x7fe268819208>"
      ]
     },
     "metadata": {
      "needs_background": "light"
     },
     "output_type": "display_data"
    }
   ],
   "source": [
    "scores, ave_scores, max_ave_score = dqn(simple_agent, N_EPISODES, EPS_START, MIN_EPS, EPS_DECAY)\n",
    "\n",
    "plt.plot(scores)\n",
    "plt.plot(ave_scores)\n",
    "plt.show()"
   ]
  },
  {
   "cell_type": "markdown",
   "metadata": {},
   "source": [
    "Let's run the trained model with vanila DQN."
   ]
  },
  {
   "cell_type": "code",
   "execution_count": 12,
   "metadata": {},
   "outputs": [
    {
     "name": "stdout",
     "output_type": "stream",
     "text": [
      "12.0, 22.0, 14.0, 15.0, 9.0, 16.0, 19.0, 12.0, 11.0, 13.0, \n",
      "\n",
      "22.0, 18.0, 17.0, 14.0, 16.0, 16.0, 16.0, 17.0, 12.0, 14.0, \n",
      "\n",
      "20.0, 10.0, 17.0, 17.0, 16.0, 14.0, 18.0, 19.0, 19.0, 18.0, \n",
      "\n",
      "19.0, 15.0, 14.0, 18.0, 6.0, 9.0, 19.0, 21.0, 14.0, 13.0, \n",
      "\n",
      "18.0, 15.0, 16.0, 18.0, 17.0, 17.0, 17.0, 20.0, 20.0, 9.0, \n",
      "\n",
      "19.0, 20.0, 15.0, 19.0, 18.0, 12.0, 14.0, 14.0, 22.0, 17.0, \n",
      "\n",
      "18.0, 14.0, 15.0, 15.0, 22.0, 15.0, 15.0, 21.0, 17.0, 16.0, \n",
      "\n",
      "13.0, 21.0, 19.0, 17.0, 11.0, 19.0, 12.0, 22.0, 14.0, 15.0, \n",
      "\n",
      "14.0, 12.0, 12.0, 16.0, 19.0, 16.0, 15.0, 11.0, 19.0, 17.0, \n",
      "\n",
      "14.0, 17.0, 18.0, 16.0, 25.0, 22.0, 18.0, 10.0, 16.0, 19.0, \n",
      "\n",
      "Average score: 16.15\n"
     ]
    }
   ],
   "source": [
    "ave_score = 0.0\n",
    "simple_agent.load_model(\"vanilla_dpq.pth\")\n",
    "num_plays=100\n",
    "\n",
    "for e in range(num_plays):\n",
    "    env_info = env.reset(train_mode=False)[brain_name] # reset the environment with \n",
    "    state = env_info.vector_observations[0]            # train_mode=False \n",
    "    score = 0                                          \n",
    "\n",
    "    while True:\n",
    "        action = simple_agent.act(state)\n",
    "        env_info = env.step(action)[brain_name]\n",
    "        next_state = env_info.vector_observations[0]\n",
    "        reward = env_info.rewards[0]\n",
    "        done = env_info.local_done[0]\n",
    "        score += reward\n",
    "        state = next_state\n",
    "        if done:\n",
    "            break    \n",
    "\n",
    "    print(score, end=\", \")\n",
    "    if (e+1) % 10 == 0:\n",
    "        print(\"\\n\")\n",
    "    ave_score += score\n",
    "\n",
    "print(\"Average score: {}\".format(ave_score/num_plays))"
   ]
  },
  {
   "cell_type": "code",
   "execution_count": null,
   "metadata": {},
   "outputs": [],
   "source": [
    "env.close()"
   ]
  }
 ],
 "metadata": {
  "kernelspec": {
   "display_name": "p1test",
   "language": "python",
   "name": "p1test"
  },
  "language_info": {
   "codemirror_mode": {
    "name": "ipython",
    "version": 3
   },
   "file_extension": ".py",
   "mimetype": "text/x-python",
   "name": "python",
   "nbconvert_exporter": "python",
   "pygments_lexer": "ipython3",
   "version": "3.6.6"
  }
 },
 "nbformat": 4,
 "nbformat_minor": 2
}
